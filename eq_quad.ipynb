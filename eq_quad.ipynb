{
 "cells": [
  {
   "cell_type": "code",
   "execution_count": 41,
   "id": "448c25c0-2634-48ab-96d9-cd63a23aee65",
   "metadata": {},
   "outputs": [
    {
     "data": {
      "text/plain": [
       "'\\nPrograma: eq_quad\\nDescrição: Este programa resolve uma equação quadrática com termos à escolha do usuário\\nAutor: Filipe Eich\\nData: 28/02/2025\\nVersao: 0.0.1\\n'"
      ]
     },
     "execution_count": 41,
     "metadata": {},
     "output_type": "execute_result"
    }
   ],
   "source": [
    "\"\"\"\n",
    "Programa: eq_quad\n",
    "Descrição: Este programa resolve uma equação quadrática com termos à escolha do usuário\n",
    "Autor: Filipe Eich\n",
    "Data: 28/02/2025\n",
    "Versao: 0.0.1\n",
    "\"\"\"\n"
   ]
  },
  {
   "cell_type": "code",
   "execution_count": 43,
   "id": "894fd8a0-64c7-4b54-8659-5d44615f515f",
   "metadata": {},
   "outputs": [],
   "source": [
    "#Alocaçao de memoria\n",
    "\n",
    "a=\"\"\n",
    "x1=\"\"\n",
    "x2=\"\"\n",
    "b=\"\"\n",
    "c=\"\"\n",
    "y=\"\"\n",
    "delta=\"\"\n",
    "aux=\"\"\n"
   ]
  },
  {
   "cell_type": "code",
   "execution_count": 51,
   "id": "69533df8-fc7f-49b8-b32f-92411efd25d3",
   "metadata": {
    "scrolled": true
   },
   "outputs": [
    {
     "name": "stdin",
     "output_type": "stream",
     "text": [
      "\n",
      "Olá! Vamos achar o valor de X em uma equação quadrática? Considere o formato a.x² + b.x + c = y , Qual valor de a?:  1\n",
      "\n",
      "Agora, me diga o valor para b:  2\n",
      "\n",
      "Por fim, atribua o valor de c:  3\n",
      "\n",
      "Agora, me diga o valor para y:  4\n"
     ]
    }
   ],
   "source": [
    "#Entrada de dados\n",
    "\n",
    "a = float(input(\"\\nOlá! Vamos achar o valor de X em uma equação quadrática? Considere o formato a.x² + b.x + c = y , Qual valor de a?: \"))\n",
    "b = float(input(\"\\nAgora, me diga o valor para b: \"))\n",
    "c = float(input(\"\\nPor fim, atribua o valor de c: \"))\n",
    "y = float(input(\"\\nAgora, me diga o valor para y: \"))\n",
    "\n"
   ]
  },
  {
   "cell_type": "code",
   "execution_count": 53,
   "id": "9ec6182e-f888-4622-8308-4ecf55fffcc7",
   "metadata": {},
   "outputs": [],
   "source": [
    "# Processamento de dados\n",
    "\n",
    "delta=b**2-(4*a*(c-y))\n",
    "\n",
    "if delta>0:\n",
    "    x1=(-b + delta**0.5)/(2*a)\n",
    "    x2=(-b - delta**0.5)/(2*a)\n",
    "    aux=1\n",
    "elif delta==0:\n",
    "    x1= -b / (2*a)\n",
    "    x2=-x1\n",
    "    aux=1\n",
    "else:\n",
    "    aux=0\n",
    "\n",
    "\n",
    "\n"
   ]
  },
  {
   "cell_type": "code",
   "execution_count": 55,
   "id": "23ca565b-9252-4690-983f-980220c1d4f4",
   "metadata": {},
   "outputs": [
    {
     "name": "stdout",
     "output_type": "stream",
     "text": [
      "\n",
      "Aqui estão as raízes da equação: X1 = 0.41421356237309515; X2= -2.414213562373095\n"
     ]
    }
   ],
   "source": [
    "#Saida de dados\n",
    "\n",
    "\n",
    "if aux==1:\n",
    "    print(f\"\\nAqui estão as raízes da equação: X1 = {x1}; X2= {x2}\")\n",
    "elif aux==0:\n",
    "    print(f\"\\nNão há solução real para o problema!\")\n",
    "\n",
    "\n",
    "\n"
   ]
  },
  {
   "cell_type": "code",
   "execution_count": null,
   "id": "5963554e-b214-463f-820b-86e8ba70fe6c",
   "metadata": {},
   "outputs": [],
   "source": []
  }
 ],
 "metadata": {
  "kernelspec": {
   "display_name": "Python [conda env:base] *",
   "language": "python",
   "name": "conda-base-py"
  },
  "language_info": {
   "codemirror_mode": {
    "name": "ipython",
    "version": 3
   },
   "file_extension": ".py",
   "mimetype": "text/x-python",
   "name": "python",
   "nbconvert_exporter": "python",
   "pygments_lexer": "ipython3",
   "version": "3.12.7"
  }
 },
 "nbformat": 4,
 "nbformat_minor": 5
}
